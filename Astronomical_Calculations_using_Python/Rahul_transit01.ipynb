{
 "cells": [
  {
   "cell_type": "markdown",
   "id": "2c42b25b-eebf-4a90-a56b-3e4e272d67a6",
   "metadata": {},
   "source": [
    "**importing all libraries**"
   ]
  },
  {
   "cell_type": "code",
   "execution_count": 20,
   "id": "3db6e933-95f3-46d1-88fb-ee798c70f1e3",
   "metadata": {},
   "outputs": [],
   "source": [
    "import numpy as np\n",
    "from astropy.constants import au, R_sun ,R_earth\n",
    "from astropy import units as u"
   ]
  },
  {
   "cell_type": "markdown",
   "id": "6bce020c-476f-45df-b6b8-23fb60c0b618",
   "metadata": {},
   "source": [
    "**Defining const units**"
   ]
  },
  {
   "cell_type": "code",
   "execution_count": 4,
   "id": "fe26665c-fe1c-4354-84bf-b73358bf41fa",
   "metadata": {},
   "outputs": [],
   "source": [
    "F_0 = 2.51802e-8 * u.W / u.m**2  # Zero magnitude flux in W/m²\n",
    "F_Earth = 1370 * u.W / u.m**2  # Flux at Earth in W/m²\n",
    "R_jupiter = 6.9911e7 * u.m  # Radius of Jupiter in meters"
   ]
  },
  {
   "cell_type": "markdown",
   "id": "48ad09fb-48f8-4926-b7ef-fe692aac0c68",
   "metadata": {},
   "source": [
    "**# Part (a): Flux and Bolometric Magnitude**\n",
    "\n",
    "luminousity is const so can find flux L = F/ 2pi* r^2\n",
    "bolometric flux direct formula "
   ]
  },
  {
   "cell_type": "code",
   "execution_count": 5,
   "id": "d3ab0104-255f-49e2-8140-efb4b1a1705f",
   "metadata": {
    "scrolled": true
   },
   "outputs": [
    {
     "name": "stdout",
     "output_type": "stream",
     "text": [
      "Flux received by the space probe: 0.548 W / m2\n"
     ]
    }
   ],
   "source": [
    "def flux_received(d_probe_au, F_Earth):\n",
    "    d_probe_m = d_probe_au * au  \n",
    "    flux_probe = F_Earth * (au / d_probe_m)**2  \n",
    "    return flux_probe\n",
    "\n",
    "d_probe_au = 50  \n",
    "flux_probe = flux_received(d_probe_au, F_Earth)\n",
    "print(f\"Flux received by the space probe: {flux_probe}\")"
   ]
  },
  {
   "cell_type": "code",
   "execution_count": 6,
   "id": "62b35326-7a96-4d84-9de0-65fc002caa3b",
   "metadata": {},
   "outputs": [
    {
     "name": "stdout",
     "output_type": "stream",
     "text": [
      "Bolometric magnitude of the Sun: -26.839153479697366\n"
     ]
    }
   ],
   "source": [
    "def bolometric_magnitude(F_Sun, F_0):\n",
    "    m_bol = -2.5 * np.log10(F_Sun / F_0)\n",
    "    return m_bol\n",
    "\n",
    "m_bol = bolometric_magnitude(F_Earth, F_0)\n",
    "print(f\"Bolometric magnitude of the Sun: {m_bol}\")"
   ]
  },
  {
   "cell_type": "markdown",
   "id": "f326f54d-ad4a-4700-b257-6a0199281b97",
   "metadata": {},
   "source": [
    "**# Part (b): Angular size**\n",
    "\n",
    "for angluar size direct stellar method , here using proper tan inverse as we have calculator so why estimation"
   ]
  },
  {
   "cell_type": "code",
   "execution_count": 7,
   "id": "27a0ebb4-977d-4086-a2ab-22c829b238aa",
   "metadata": {},
   "outputs": [
    {
     "name": "stdout",
     "output_type": "stream",
     "text": [
      "Angular size of the Sun from the space probe: 38.3691090309926 deg arcseconds\n"
     ]
    }
   ],
   "source": [
    "# Part (b)\n",
    "def angular_size(R, d):\n",
    "    theta_rad = 2 * np.arctan(R / d)  \n",
    "    theta_arcsec = np.degrees(theta_rad) * 3600\n",
    "    return theta_arcsec\n",
    "\n",
    "d_probe_m = d_probe_au * au\n",
    "theta_sun = angular_size(R_sun, d_probe_m)\n",
    "print(f\"Angular size of the Sun from the space probe: {theta_sun} arcseconds\")"
   ]
  },
  {
   "cell_type": "markdown",
   "id": "704ed64f-8af9-4ae1-a242-54acdb10ac72",
   "metadata": {},
   "source": [
    "**Part (c):**\n",
    "\n",
    "same above function except values change\n",
    "for distance of probe from jupiter there is not specific definition of model but considering we have toobserve transit we suppose all three are alligned and distance of jupiter and probe from sun are given  as 5.2 au and 50 au so their mutual difference is their difference 44.8 au"
   ]
  },
  {
   "cell_type": "code",
   "execution_count": 8,
   "id": "af7d5735-d4b2-4d49-a64c-c0f6eda6afc7",
   "metadata": {},
   "outputs": [
    {
     "name": "stdout",
     "output_type": "stream",
     "text": [
      "Angular size of Jupiter as seen by the space probe: 4.303256337885865 deg arcseconds\n"
     ]
    }
   ],
   "source": [
    "# Part (c)\n",
    "\n",
    "d_probe_j = (44.8)*au\n",
    "theta_jupiter = angular_size(R_jupiter, d_probe_j)\n",
    "print(f\"Angular size of Jupiter as seen by the space probe: {theta_jupiter} arcseconds\")"
   ]
  },
  {
   "cell_type": "markdown",
   "id": "3eb57c43-72b1-4379-8326-3a53388e982a",
   "metadata": {},
   "source": [
    "**Part (d): reduction due to transit**  \n",
    "\n",
    "here as transit occurs jupiter will cover some area of sun equivalent to its area but not actual area but the area appearing for observer that means area due to angular sizes anf that ratio will be dependent to ratio of square of angular sizes"
   ]
  },
  {
   "cell_type": "code",
   "execution_count": 11,
   "id": "65321eb3-45fb-4b69-9887-330d57e38364",
   "metadata": {},
   "outputs": [
    {
     "name": "stdout",
     "output_type": "stream",
     "text": [
      "Fraction of the Sun covered by Jupiter: 0.012578562296516944\n",
      "Fraction of the Sun covered by Jupiter in percentage is: 1.2578562296516944\n"
     ]
    }
   ],
   "source": [
    "# Part (d)\n",
    "def fraction_covered(theta_jupiter, theta_sun):\n",
    "    return (theta_jupiter / theta_sun)**2\n",
    "\n",
    "fraction_covered_sun = fraction_covered(theta_jupiter, theta_sun)\n",
    "print(f\"Fraction of the Sun covered by Jupiter: {fraction_covered_sun}\")\n",
    "print(f\"Fraction of the Sun covered by Jupiter in percentage is: {fraction_covered_sun * 100}\")\n"
   ]
  },
  {
   "cell_type": "markdown",
   "id": "767ad1c4-df1d-4df2-95f3-d7f06c25b8f3",
   "metadata": {},
   "source": [
    "**Part (e): change in magnitude due to transit**\n",
    "\n",
    "for change in magnitude we take the change in magnitude depending to the part left visible or part coverd so applying same  "
   ]
  },
  {
   "cell_type": "code",
   "execution_count": 13,
   "id": "5280cad7-b471-48e3-baf0-bf9167823453",
   "metadata": {},
   "outputs": [
    {
     "name": "stdout",
     "output_type": "stream",
     "text": [
      "Change in magnitude due to transit of Jupiter: 0.013743620340186481\n"
     ]
    }
   ],
   "source": [
    "# Part (e)\n",
    "def change_in_magnitude(fraction_covered):\n",
    "    \n",
    "    delta_m = -2.5 * np.log10(1 - fraction_covered)\n",
    "    return delta_m\n",
    "\n",
    "delta_m_jupiter = change_in_magnitude(fraction_covered_sun)\n",
    "print(f\"Change in magnitude due to transit of Jupiter: {delta_m_jupiter}\")"
   ]
  },
  {
   "cell_type": "markdown",
   "id": "d7c56546-9f09-4212-86d2-9e069e462324",
   "metadata": {},
   "source": [
    "**Part(f): For transit due to earth**\n",
    "\n",
    "Same scenerio just for calculation of angular distance of earth, earth orbit at 1 au from sun unlike jupiter which is at 5.2 au"
   ]
  },
  {
   "cell_type": "code",
   "execution_count": 21,
   "id": "5c2dd596-c69d-4ad1-8dbb-a308b347639b",
   "metadata": {},
   "outputs": [
    {
     "name": "stdout",
     "output_type": "stream",
     "text": [
      "Change in magnitude due to transit of Earth: 9.502323620781363e-05\n"
     ]
    }
   ],
   "source": [
    "# Part (f): \n",
    "d_probe_earth = 49 *au\n",
    "theta_earth =  angular_size(R_earth, d_probe_earth)\n",
    "fraction_covered_earth = fraction_covered(theta_earth, theta_sun)\n",
    "delta_m_earth = change_in_magnitude(fraction_covered_earth)\n",
    "print(f\"Change in magnitude due to transit of Earth: {delta_m_earth}\")"
   ]
  },
  {
   "cell_type": "markdown",
   "id": "99463d86-5dd5-425e-95a9-a4412f84309a",
   "metadata": {},
   "source": [
    "**Part (g): Repeating all calulations for distance of Space probe to be 1 pc**\n",
    "\n",
    "nothing extra just insted of d_probe_au d_probe_pc_m named variable is defined to have a constant value of 1 pc in terms of astronomical unit"
   ]
  },
  {
   "cell_type": "code",
   "execution_count": 27,
   "id": "299a5e0a-9311-405b-bfad-1dbaaf0905d1",
   "metadata": {},
   "outputs": [
    {
     "name": "stdout",
     "output_type": "stream",
     "text": [
      "Flux received by the space probe at 1 parsec: 3.2201069838564104e-08 W / m2\n",
      "Angular size of the Sun from 1 parsec: 0.009300934521924313 deg arcseconds\n",
      "Angular size of Jupiter as seen from the space probe at 1 parsec: 0.0009346759040804352 deg arcseconds\n",
      "Fraction of the Sun covered by Jupiter at 1 parsec: 0.010098780191503528\n",
      "Change in magnitude due to transit of Jupiter at 1 parsec: 0.011020351466872285\n",
      "Change in magnitude due to transit of Earth at 1 parsec: 9.126104230655128e-05\n"
     ]
    }
   ],
   "source": [
    "\n",
    "pc = 1 * u.pc  \n",
    "d_probe_pc = pc.to(u.AU).value  # Distance in AU\n",
    "d_probe_pc_m = d_probe_pc * au \n",
    "# Part (a)\n",
    "flux_probe_pc = flux_received(d_probe_pc, F_Earth)\n",
    "print(f\"Flux received by the space probe at 1 parsec: {flux_probe_pc}\")\n",
    "# bolometric magnitude of sun was from earth so ignored any change \n",
    "# Part (b)\n",
    " \n",
    "theta_sun_pc = angular_size(R_sun, d_probe_pc_m)\n",
    "print(f\"Angular size of the Sun from 1 parsec: {theta_sun_pc} arcseconds\")\n",
    "\n",
    "# Part (c):\n",
    "d_probe_jp_m = d_probe_pc_m -5.2* au\n",
    "theta_jupiter_pc = angular_size(R_jupiter, d_probe_jp_m)\n",
    "print(f\"Angular size of Jupiter as seen from the space probe at 1 parsec: {theta_jupiter_pc} arcseconds\")\n",
    "\n",
    "# Part (d):\n",
    "fraction_covered_sun_pc = fraction_covered(theta_jupiter_pc, theta_sun_pc)\n",
    "print(f\"Fraction of the Sun covered by Jupiter at 1 parsec: {fraction_covered_sun_pc}\")\n",
    "\n",
    "# Part (e):\n",
    "delta_m_jupiter_pc = change_in_magnitude(fraction_covered_sun_pc)\n",
    "print(f\"Change in magnitude due to transit of Jupiter at 1 parsec: {delta_m_jupiter_pc}\")\n",
    "\n",
    "# Part (f):\n",
    "d_probe_earth_m = d_probe_pc_m - 1 * au\n",
    "theta_earth_pc = angular_size(R_earth, d_probe_earth_m)\n",
    "fraction_covered_earth_pc = fraction_covered(theta_earth_pc, theta_sun_pc)\n",
    "delta_m_earth_pc = change_in_magnitude(fraction_covered_earth_pc)\n",
    "print(f\"Change in magnitude due to transit of Earth at 1 parsec: {delta_m_earth_pc}\")"
   ]
  }
 ],
 "metadata": {
  "kernelspec": {
   "display_name": "Python 3 (ipykernel)",
   "language": "python",
   "name": "python3"
  },
  "language_info": {
   "codemirror_mode": {
    "name": "ipython",
    "version": 3
   },
   "file_extension": ".py",
   "mimetype": "text/x-python",
   "name": "python",
   "nbconvert_exporter": "python",
   "pygments_lexer": "ipython3",
   "version": "3.10.6"
  }
 },
 "nbformat": 4,
 "nbformat_minor": 5
}
