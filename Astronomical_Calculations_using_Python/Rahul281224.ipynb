{
 "cells": [
  {
   "cell_type": "markdown",
   "id": "dd5fcfba-169a-48b9-b05b-df790bb8b744",
   "metadata": {},
   "source": [
    "# Day 2 - Assignment"
   ]
  },
  {
   "cell_type": "markdown",
   "id": "ef067c86-4a10-4459-bc75-5fa56ef6b06f",
   "metadata": {},
   "source": [
    "## Problem 1\n",
    "Calculate the number of lunar months in a year."
   ]
  },
  {
   "cell_type": "code",
   "execution_count": 46,
   "id": "25ec08ac-d156-40b0-8f95-7be08bfa8221",
   "metadata": {},
   "outputs": [
    {
     "name": "stdout",
     "output_type": "stream",
     "text": [
      "12.368358673935864\n"
     ]
    }
   ],
   "source": [
    "import astropy.constants as c\n",
    "import astropy.units as u\n",
    "days_in_LM = 29.531*u.day\n",
    "days_in_yr = 365.25*u.day\n",
    "no_of_months = days_in_yr/days_in_LM\n",
    "print(no_of_months)\n",
    "\n",
    "\n",
    "\n"
   ]
  },
  {
   "cell_type": "markdown",
   "id": "2ee13403-9376-4138-827d-3a3098f6885d",
   "metadata": {},
   "source": [
    "## Problem 2 \n",
    "Calculate the distance of geostationary satellite from the center of the Earth, in the units of Earth radius, Geostationary satellite has timeperiod equal to Earth's sidereal rotation period.\n",
    "$$\\dfrac{GM}{r^3}=\\dfrac{4\\pi}{T^2}$$"
   ]
  },
  {
   "cell_type": "code",
   "execution_count": 47,
   "id": "4523930b-f11b-4e10-97fd-8e3efd893fc6",
   "metadata": {},
   "outputs": [
    {
     "name": "stdout",
     "output_type": "stream",
     "text": [
      "6.610772512189762 earthRad\n"
     ]
    }
   ],
   "source": [
    "# Your code\n",
    "import numpy as np\n",
    "import astropy.units as u\n",
    "import astropy.constants as c\n",
    "G = c.G\n",
    "M =c.M_earth\n",
    "T = u.sday.to(u.s)\n",
    "\n",
    "r =np.cbrt((G*M*T**2)/(4*np.pi**2))\n",
    "val_r =((r.value)*u.m).to(u.R_earth)\n",
    "\n",
    "print (val_r)\n"
   ]
  },
  {
   "cell_type": "markdown",
   "id": "4326a0c1-8d0d-4e42-b40c-1b9160b5a3e9",
   "metadata": {},
   "source": [
    "## Problem 3 \n",
    "\n",
    "Moon moves away from the Earth, due to tidal forces, at a rate of about 3.8 cm/year. It is at a distance of 3,84,000 km from Earth. We also know, universe expands at a rate given by Hubble’s law, which is about 72 km/s per Mpc. Calculate at what rate the moon moves away in the units of km/s per Mpc. Compare with the expansion of the Universe."
   ]
  },
  {
   "cell_type": "code",
   "execution_count": 48,
   "id": "2222210e-939b-4040-bcac-d925b81cbd5c",
   "metadata": {},
   "outputs": [
    {
     "name": "stdout",
     "output_type": "stream",
     "text": [
      "1.3438984528309457\n"
     ]
    }
   ],
   "source": [
    "Mtr = (3.8)*u.cm/(u.yr)\n",
    "moondist= 384000*u.km\n",
    "mdstmpc =moondist.to(u.Mpc)\n",
    "HL = 72*(u.km/u.s)/u.Mpc\n",
    "MTRtoHLunt = Mtr.to(u.km/u.s)\n",
    "HLM = MTRtoHLunt/mdstmpc\n",
    "# comparing \n",
    "print(HLM/HL) \n"
   ]
  },
  {
   "cell_type": "markdown",
   "id": "e622df46-7a54-4297-81b3-abac67d5a9ce",
   "metadata": {},
   "source": [
    "## Problem 4\n",
    "\n",
    "Eckart and Genzel measured the speeds of the stars close to the supermassive black holes at the centre of Milky Way. They found speeds about 300 km/s when these stars were at distance of 0.015 pc from the centre. Estimate the mass of the supermassive blackholes in units of M_sun. Speed of object around massive object is given by $$\\nu = \\sqrt{\\dfrac{GM}{r}}$$"
   ]
  },
  {
   "cell_type": "code",
   "execution_count": 49,
   "id": "9c250d9d-cef9-4e4d-8daf-a7b4ffb3d6d9",
   "metadata": {},
   "outputs": [
    {
     "name": "stdout",
     "output_type": "stream",
     "text": [
      "313886.53053273266 solMass\n"
     ]
    }
   ],
   "source": [
    "v = 300*u.km/u.s\n",
    "r = 0.015*u.pc\n",
    "G =c.G\n",
    "M = v**2*r/G\n",
    "Minkg = M.to(u.kg)\n",
    "print(Minkg.to(u.M_sun))"
   ]
  },
  {
   "cell_type": "markdown",
   "id": "550d2d65-fda4-4280-8ee9-8c60b0c53ac4",
   "metadata": {},
   "source": [
    "## Problem 5\n",
    "\n",
    "Ghez and others identified stars close to the super massive black hole at 0.01pc moving with acceleration of about $3\\;mm/s^2$. Estimate the mass of the supermassive blackhole in units of M_sun. Acceleration of object around massive object is given by $$a=\\dfrac{GM}{r^2}$$"
   ]
  },
  {
   "cell_type": "code",
   "execution_count": 50,
   "id": "9d7f0017-71b9-4795-a406-7f72c7acd96f",
   "metadata": {
    "scrolled": true
   },
   "outputs": [
    {
     "name": "stdout",
     "output_type": "stream",
     "text": [
      "2152339.178659909 solMass\n"
     ]
    }
   ],
   "source": [
    "r =0.01*u.pc\n",
    "rconv= r.to(u.m)\n",
    "a = 3*(u.mm)/(u.s)**2\n",
    "aconv= a.to(u.m/u.s**2)\n",
    "M = aconv*rconv**2/(c.G.to(u.m**3/(u.kg*u.s**2)))\n",
    "print(M.to(u.M_sun))\n",
    "\n",
    "\n"
   ]
  },
  {
   "cell_type": "markdown",
   "id": "b6fdde3b-88a5-433f-ad68-eb45b33ad9ac",
   "metadata": {},
   "source": [
    "## Problem 6\n",
    "\n",
    "Sidereal day on Mars is 24h 37m 22.7s and sidereal year on Mars is 686.980 d. \n",
    "\n",
    "Mass of the Mars is 0.107 that of the Earth. \n",
    "Radius of the Mars is  0.533 that of the Earth. \n",
    "Distance of the Mars from the Sun is 1.52368 AU.\n",
    "\n",
    "- Calculate a solar day on Mars and define it as sol.\n",
    "- Phobos is at the distance of 9376 km from the Mars. Calculate its period of revolution around Mars in terms of sol.\n",
    "- Calculate the lunar month (in sol) due to Phobos on Mars."
   ]
  },
  {
   "cell_type": "code",
   "execution_count": 51,
   "id": "44691ab3-5c69-4f8f-a7d3-1eefc47743d5",
   "metadata": {
    "scrolled": true
   },
   "outputs": [
    {
     "name": "stdout",
     "output_type": "stream",
     "text": [
      "solar day on mars, sol:1.0274916637503584 d\n",
      "period of revolution around Mars in terms of sol for phobos is 0.31113829171303126\n",
      "lunar month due to phobos in mars in sol :0.45167017990701847\n"
     ]
    }
   ],
   "source": [
    "SrDM = 24*u.hour + 37*u.min + 22.7*u.s\n",
    "SrYM = 686.980*u.day \n",
    "Mmars = 0.107*u.M_earth\n",
    "Rmars = 0.533*u.R_earth\n",
    "msdist = 1.52368*u.AU\n",
    "dispho = 9376*u.km\n",
    "SLDM = (SrYM*SrDM.to(u.day))/(SrYM-SrDM.to(u.day))\n",
    "sol = SLDM\n",
    "print(f\"solar day on mars, sol:{sol}\")\n",
    "T_phobos = np.sqrt((4*(np.pi)**2*(dispho.to(u.m))**3)/(c.G*Mmars.to(u.kg)))\n",
    "T_ph_insol = T_phobos.to(u.day)/sol\n",
    "print(f\"period of revolution around Mars in terms of sol for phobos is {T_ph_insol}\")\n",
    "\n",
    "LMinv = (1/T_phobos) - (1/sol)\n",
    "lunar_month = (1/LMinv)\n",
    "print(f\"lunar month due to phobos in mars in sol :{lunar_month/sol.to(u.s)}\")"
   ]
  },
  {
   "cell_type": "markdown",
   "id": "4f7758c3-8df5-414f-8806-e35c95324027",
   "metadata": {},
   "source": [
    "## Problem 7\n",
    "\n",
    "At what distance a 100 W lamp will provide the same flux as given by the Sun at the Earth. At what distance the lamp should be to match the flux given by Vega?$$F=\\dfrac{L}{4\\pi d^2}$$"
   ]
  },
  {
   "cell_type": "code",
   "execution_count": 52,
   "id": "e4df6b3c-5a22-4eed-b485-0eaa0954c49a",
   "metadata": {},
   "outputs": [
    {
     "name": "stdout",
     "output_type": "stream",
     "text": [
      "Distance of lamp matching flux of sun : 0.9608948580955222 m\n",
      "Distance of lamp matching flux of sun : 22.330819523022626 m\n"
     ]
    }
   ],
   "source": [
    "L_lamp = 100 *u.W \n",
    "flux_sun = 1361*u.W/u.m**2\n",
    "d1 = np.sqrt(L_lamp/flux_sun*4*np.pi)\n",
    "print(\"Distance of lamp matching flux of sun :\",d1)\n",
    "flux_vega =2.52*u.W/u.m**2\n",
    "d2 = np.sqrt(L_lamp/flux_vega*4*np.pi)\n",
    "print(\"Distance of lamp matching flux of sun :\",d2)"
   ]
  },
  {
   "cell_type": "markdown",
   "id": "a3888aca-0a3e-4ba9-ac66-d3e67b7ee3fa",
   "metadata": {},
   "source": [
    "## Problem 8\n",
    "\n",
    "Calculate the distance between Mumbai and Mombasa in R_earth and in km."
   ]
  },
  {
   "cell_type": "code",
   "execution_count": 71,
   "id": "fa406931-e4ff-4d81-aa57-62fa0946e6e4",
   "metadata": {},
   "outputs": [
    {
     "name": "stdout",
     "output_type": "stream",
     "text": [
      "Sepration in km: 4347.1049024075755 km and in R_earth: 0.681567379377491\n"
     ]
    }
   ],
   "source": [
    "from astropy.coordinates import EarthLocation\n",
    "from astropy.coordinates import SkyCoord\n",
    "#Mumbai = EarthLocation()\n",
    "#Mombasa = EarthLocation('Mombasa')\n",
    "Mumbai = EarthLocation(lat=18.975 * u.deg, lon=72.8258 * u.deg, height=14 * u.m)\n",
    "Mombasa = EarthLocation(lat=-4.0435 * u.deg, lon=39.6682 * u.deg, height=50 * u.m)\n",
    "dist = np.sqrt(\n",
    "    (Mumbai.x - Mombasa.x)**2 +\n",
    "    (Mumbai.y - Mombasa.y)**2 +\n",
    "    (Mumbai.z - Mombasa.z)**2 )\n",
    "print(f\"Sepration in km: {dist.to(u.km)} and in R_earth: {dist.to(u.km)/c.R_earth.to(u.km)}\")\n",
    "\n",
    "\n"
   ]
  },
  {
   "cell_type": "markdown",
   "id": "62fc8e82-9e34-44a5-85e0-fb82d7e6f7a1",
   "metadata": {},
   "source": [
    "## Problem 9\n",
    "Calculate angular separation between stars ‘Fomalhaut’, ‘Canopus’ and ‘Achernar’."
   ]
  },
  {
   "cell_type": "code",
   "execution_count": 56,
   "id": "952f0d5d-b351-4af3-b8da-7d23a9613ab8",
   "metadata": {},
   "outputs": [
    {
     "name": "stdout",
     "output_type": "stream",
     "text": [
      "Angular sepration between \n",
      " Fomalhaut and Canopus:\t 78.49624630286158 deg \n",
      " Achernar and Canopus:\t 39.40922868552337 deg \n",
      " Fomalhaut and Achernar:\t 39.10961151785744 deg \n"
     ]
    }
   ],
   "source": [
    "from astropy.coordinates import SkyCoord\n",
    "Fomalhaut = SkyCoord.from_name('Fomalhaut')\n",
    "Canopus = SkyCoord.from_name('Canopus')\n",
    "Achernar = SkyCoord.from_name('Achernar')\n",
    "separation1 = Fomalhaut.separation(Canopus)\n",
    "separation2 = Achernar.separation(Canopus)\n",
    "separation3 = Fomalhaut.separation(Achernar)\n",
    "\n",
    "print(f\"Angular sepration between \\n Fomalhaut and Canopus:\\t {separation1} \\n Achernar and Canopus:\\t {separation2} \\n Fomalhaut and Achernar:\\t {separation3} \")\n",
    "\n"
   ]
  },
  {
   "cell_type": "markdown",
   "id": "eef15d61-40c9-4cfe-b42d-26de7732887b",
   "metadata": {},
   "source": [
    "## Problem 10\n",
    "Calculate the four sides of the Square of Pegasus. At its vertex are the stars: ‘Alpheratz’, ‘Scheat’, ‘Markab’ and ‘Algenib’."
   ]
  },
  {
   "cell_type": "code",
   "execution_count": 62,
   "id": "fd3bb822-7eb1-439b-b855-b15dc54c95cc",
   "metadata": {},
   "outputs": [
    {
     "name": "stdout",
     "output_type": "stream",
     "text": [
      "Sides of square with star named in abovementioned series are :\n",
      " s1:\t14.20877670455847 deg\n",
      " s2:\t12.879547905669218 deg\n",
      " s3:\t16.516065696634822 deg\n",
      " s4:\t13.951744538002126 deg\n"
     ]
    }
   ],
   "source": [
    "from astropy.coordinates import SkyCoord\n",
    "A = SkyCoord.from_name('Alpheratz')\n",
    "B = SkyCoord.from_name('Scheat')\n",
    "C = SkyCoord.from_name('Markab')\n",
    "D = SkyCoord.from_name('Algenib')\n",
    "s1 = A.separation(B)\n",
    "s2 = B.separation(C)\n",
    "s3 = C.separation(D)\n",
    "s4 = D.separation(A)\n",
    "print(f\"Sides of square with star named in abovementioned series are :\\n s1:\\t{s1}\\n s2:\\t{s2}\\n s3:\\t{s3}\\n s4:\\t{s4}\")\n",
    "\n",
    "\n",
    "\n",
    "\n"
   ]
  },
  {
   "cell_type": "markdown",
   "id": "3912c04c-fbc0-4702-9578-caa21495b183",
   "metadata": {},
   "source": [
    "## Problem 11 - Miller's Planet\n",
    "\n",
    "In the movie Interstellar, Miller's planet experiences time dilation due to its proximity to a black hole, such that 1 hour on Miller's planet equals 7 years on Earth.\n",
    "\n",
    "Edwin Hubble first presented his findings about discovering new galaxies during a meeting at Americal Astronomical Society on 1st Jan 1925. \n",
    "\n",
    "Use astropy.time module to evaluate how many days/years it has been since this meeting. Assume today's date is 25th December 2024.\n",
    "\n",
    "Use the def_unit function of astropy to create a new unit definition, say, miller_hour which is equivalent to 7 earth years. \n",
    "\n",
    "Test your unit definition by using miller_hour.to(u.year) which should give the output 7.\n",
    "\n",
    "Find out how many hours it has been on Miller's planet since Hubble's meeting.\n"
   ]
  },
  {
   "cell_type": "code",
   "execution_count": 67,
   "id": "3a9eaae1-c06f-474c-9de9-b90854ad30eb",
   "metadata": {},
   "outputs": [
    {
     "name": "stdout",
     "output_type": "stream",
     "text": [
      "Days since Hubble's meeting: 36518.00042824074\n",
      "Years since Hubble's meeting: 99.98083621694931\n",
      "1 Miller hour in Earth years: 7.0\n",
      "Hours on Miller's planet since Hubble's meeting: 14.28297660242133\n"
     ]
    }
   ],
   "source": [
    "from astropy.time import Time\n",
    "from astropy.units import def_unit\n",
    "hubble_meeting_date = Time(\"1925-01-01\")\n",
    "todays_date = Time(\"2024-12-25\")\n",
    "time_difference = todays_date - hubble_meeting_date\n",
    "days_since_meeting = time_difference.value\n",
    "years_since_meeting = time_difference.to(u.yr).value\n",
    "miller_hour = def_unit(\"miller_hour\", 7 * u.year)\n",
    "miller_hour_to_years = miller_hour.to(u.year)\n",
    "hours_on_miller = (years_since_meeting * u.year).to(miller_hour).value\n",
    "print(f\"Days since Hubble's meeting: {days_since_meeting}\")\n",
    "print(f\"Years since Hubble's meeting: {years_since_meeting}\")\n",
    "print(f\"1 Miller hour in Earth years: {miller_hour_to_years}\")\n",
    "print(f\"Hours on Miller's planet since Hubble's meeting: {hours_on_miller}\")\n",
    "\n",
    "\n",
    "\n",
    "\n",
    "\n",
    "\n"
   ]
  },
  {
   "cell_type": "markdown",
   "id": "0b15cc26-f896-4905-b196-3514d7b5dfc5",
   "metadata": {},
   "source": [
    "## Problem 12 - Curve Fitting\n",
    "\n",
    "You are provided with a noisy dataset that represents some physical phenomenon. The data contains underlying exponential, logarithmic and polynomical components. Your task is to apply curve fitting techniques to this data using exponential, logarithmic and polynomical functions, and determine the best fitting model.\n",
    "\n",
    "The simulated dataset contains two columns `x`(independent variable) and `y`(dependent variable). Your objective is to fit the data to three different models and evaluate the goodness of the fit.\n",
    "\n",
    "1. Load the data from provided csv file `astronomy_fit_data.csv`\n",
    "2. Create three functions for Exponential model, logarithmic model and polynomial model (degree 4)\n",
    "\n",
    "You can use these equations for your model\n",
    "\n",
    "\n",
    "\\begin{align*}\n",
    "\\textbf{Exponential:} \\quad & y(x) = G \\cdot e^{H \\cdot x} \\\\\n",
    "\\\\\n",
    "\\textbf{Logarithmic:} \\quad & y(x) = D \\cdot \\log(E \\cdot x + F) \\\\\n",
    "\\\\\n",
    "\\textbf{Polynomial:} \\quad & y(x) = I \\cdot x^4 + J \\cdot x^3 + K \\cdot x^2 + L \\cdot x\n",
    "\\end{align*}\n",
    "\n",
    "\n",
    "\n",
    "For the initial conditions you can use these values\n",
    "\n",
    "\\begin{align}\n",
    "\\textbf{Exponential:} \\quad & G = 10, \\quad H = -0.1 \\\\\n",
    "\\textbf{Logarithmic:} \\quad & D = 8, \\quad E = 2, \\quad F = 2 \\\\\n",
    "\\textbf{Polynomial:} \\quad & I = 0.5, \\quad J = -2, \\quad K = 6, \\quad L = -15\n",
    "\\end{align}\n",
    "\n",
    "\n",
    "Visualise the data first.\n",
    "\n",
    "Then visualise all three fits in the same plot.\n",
    "\n",
    "Use $R^2$ value for eachmodel to evaluate the goodness and determine which function is the best fit using this value.\n",
    "\n",
    "Try using different initial condition values to determine if the goodness of the fit increases or decreases.\n",
    "\n",
    "It is possible that you will face the below error when trying to fit the curve.\n",
    "\n",
    "```RuntimeError: Optimal parameters not found: Number of calls to function has reached maxfev = 800.```\n",
    "\n",
    "Debugging is part of learning, so try to find solution to how you can mitigate this error.\n"
   ]
  },
  {
   "cell_type": "code",
   "execution_count": 73,
   "id": "3ebed30b-b8a2-4c8e-8041-f80750d0b445",
   "metadata": {},
   "outputs": [
    {
     "name": "stderr",
     "output_type": "stream",
     "text": [
      "C:\\Users\\rpj20\\AppData\\Local\\Temp\\ipykernel_46548\\2969501499.py:17: RuntimeWarning: invalid value encountered in log\n",
      "  return D * np.log(E * x + F)\n"
     ]
    },
    {
     "data": {
      "image/png": "[encoded data removed]",
      "text/plain": [
       "<Figure size 1000x600 with 1 Axes>"
      ]
     },
     "metadata": {},
     "output_type": "display_data"
    },
    {
     "name": "stdout",
     "output_type": "stream",
     "text": [
      "Fitted parameters:\n",
      "Exponential: G = 14.2521, H = 0.6032\n",
      "Logarithmic: D = 30949613.5379, E = 0.0000, F = 1.0000\n",
      "Polynomial: I = 0.6497, J = -0.6766, K = 5.4686, L = -85.9870\n",
      "\n",
      "Goodness of fit:\n",
      "Exponential R^2: 0.8697\n",
      "Logarithmic R^2: 0.6120\n",
      "Polynomial R^2: 0.8853\n",
      "\n",
      "Best fitting model: Polynomial with R^2 = 0.8853\n"
     ]
    }
   ],
   "source": [
    "import numpy as np\n",
    "import pandas as pd\n",
    "import matplotlib.pyplot as plt\n",
    "from scipy.optimize import curve_fit\n",
    "\n",
    "# Load data\n",
    "data = pd.read_csv('astronomy_fit_data.csv')\n",
    "x = data['x'].values\n",
    "y = data['y'].values\n",
    "\n",
    "# Define models\n",
    "\n",
    "def exponential_model(x, G, H):\n",
    "    return G * np.exp(H * x)\n",
    "\n",
    "def logarithmic_model(x, D, E, F):\n",
    "    return D * np.log(E * x + F)\n",
    "\n",
    "def polynomial_model(x, I, J, K, L):\n",
    "    return I * x**4 + J * x**3 + K * x**2 + L * x\n",
    "\n",
    "# Initial conditions\n",
    "exp_initial = [10, -0.1]\n",
    "log_initial = [8, 2, 2]\n",
    "poly_initial = [0.5, -2, 6, -15]\n",
    "\n",
    "# Fit models\n",
    "exp_params, _ = curve_fit(exponential_model, x, y, p0=exp_initial, maxfev=10000)\n",
    "log_params, _ = curve_fit(logarithmic_model, x, y, p0=log_initial, maxfev=10000)  # here we encountered runtime error as listed so increased maxfev\n",
    "poly_params, _ = curve_fit(polynomial_model, x, y, p0=poly_initial, maxfev=10000)\n",
    "\n",
    "# Calculate predictions\n",
    "y_exp = exponential_model(x, *exp_params)\n",
    "y_log = logarithmic_model(x, *log_params)\n",
    "y_poly = polynomial_model(x, *poly_params)\n",
    "\n",
    "# Calculate R^2 values\n",
    "def calculate_r2(y_true, y_pred):\n",
    "    ss_res = np.sum((y_true - y_pred) ** 2)\n",
    "    ss_tot = np.sum((y_true - np.mean(y_true)) ** 2)\n",
    "    return 1 - (ss_res / ss_tot)\n",
    "\n",
    "r2_exp = calculate_r2(y, y_exp)\n",
    "r2_log = calculate_r2(y, y_log)\n",
    "r2_poly = calculate_r2(y, y_poly)\n",
    "\n",
    "# Plot data and fits\n",
    "plt.figure(figsize=(10, 6))\n",
    "plt.scatter(x, y, label='Data', color='black')\n",
    "plt.plot(x, y_exp, label=f'Exponential Fit ($R^2$ = {r2_exp:.4f})', color='red')\n",
    "plt.plot(x, y_log, label=f'Logarithmic Fit ($R^2$ = {r2_log:.4f})', color='blue')\n",
    "plt.plot(x, y_poly, label=f'Polynomial Fit ($R^2$ = {r2_poly:.4f})', color='green')\n",
    "plt.xlabel('x')\n",
    "plt.ylabel('y')\n",
    "plt.title('Curve Fitting Analysis')\n",
    "plt.legend()\n",
    "plt.grid(True)\n",
    "plt.show()\n",
    "\n",
    "# Print results\n",
    "print(\"Fitted parameters:\")\n",
    "print(f\"Exponential: G = {exp_params[0]:.4f}, H = {exp_params[1]:.4f}\")\n",
    "print(f\"Logarithmic: D = {log_params[0]:.4f}, E = {log_params[1]:.4f}, F = {log_params[2]:.4f}\")\n",
    "print(f\"Polynomial: I = {poly_params[0]:.4f}, J = {poly_params[1]:.4f}, K = {poly_params[2]:.4f}, L = {poly_params[3]:.4f}\")\n",
    "\n",
    "print(\"\\nGoodness of fit:\")\n",
    "print(f\"Exponential R^2: {r2_exp:.4f}\")\n",
    "print(f\"Logarithmic R^2: {r2_log:.4f}\")\n",
    "print(f\"Polynomial R^2: {r2_poly:.4f}\")\n",
    "\n",
    "# Determine the best model\n",
    "best_model = max((r2_exp, \"Exponential\"), (r2_log, \"Logarithmic\"), (r2_poly, \"Polynomial\"))\n",
    "print(f\"\\nBest fitting model: {best_model[1]} with R^2 = {best_model[0]:.4f}\")\n"
   ]
  },
  {
   "cell_type": "markdown",
   "id": "cef81c59-1b0d-47f8-bdcb-cad0dd1493c7",
   "metadata": {},
   "source": [
    "## Problem 13 - Galactic Time Zones\n",
    "\n",
    "The Milky Way rotates around its center such that the Sun takes approximately 225 million years to complete one orbit, known as the \"Galactic Year.\"  \n",
    "\n",
    "- Using the `astropy.units` module, define a new time unit called `galactic_year`.  \n",
    "- Calculate how many Galactic Years have passed since the Solar System's formation (~4.6 billion years ago).  \n",
    "- Bonus: If one Galactic Year is divided into 12 Galactic Months, how many Galactic Months has the Solar System existed?"
   ]
  },
  {
   "cell_type": "code",
   "execution_count": 77,
   "id": "9b025502-34a6-430b-97dd-af660b2948cc",
   "metadata": {},
   "outputs": [
    {
     "name": "stdout",
     "output_type": "stream",
     "text": [
      "Galactic Years passed since Solar System's formation: 20.444444444444443\n",
      "Galactic Months passed since Solar System's formation: 245.33333333333334\n"
     ]
    }
   ],
   "source": [
    "from astropy.units import def_unit\n",
    "galactic_year = def_unit(\"galactic_year\", 225e6 * u.year)\n",
    "slrsysage= 4.6e9 * u.year\n",
    "galyrpssd = slrsysage.to(galactic_year)\n",
    "galactic_month = galactic_year / 12\n",
    "galmnthpssd = slrsysage.to(galactic_month)\n",
    "print(f\"Galactic Years passed since Solar System's formation: {galyrpssd.value}\")\n",
    "print(f\"Galactic Months passed since Solar System's formation: {galmnthpssd.value}\")\n",
    "\n",
    "\n",
    "\n",
    "\n",
    "\n",
    "\n",
    "\n",
    "\n"
   ]
  },
  {
   "cell_type": "markdown",
   "id": "c48a1ba1-74aa-47b2-aebd-3defb7dd45ff",
   "metadata": {},
   "source": [
    "## Problem 14 - Supernova Timing\n",
    "Type Ia supernovae are standard candles used to measure cosmic distances. Their luminosity fades over time according to the formula $$ L(t) = L_0 e^{-kt} $$\n",
    "\n",
    "where $ L_0 $ is the initial luminosity and $ k $ is the decay constant. Assume $ L_0 = 10^9 $ $L_\\odot$ and $ k = 0.693 $ and $t$ is time in days.\n",
    "\n",
    "To solve for the time \\( t \\) when the luminosity drops to $ L(t) = L_{\\text{target}} = $ $ 10^6 $ $L_\\odot$, we rearrange the equation:\n",
    "\n",
    "$$\n",
    "L(t) = L_0 e^{-kt} \\quad \\Rightarrow \\quad t = \\frac{\\ln(L_0 / L(t))}{k}\n",
    "$$\n",
    "\n",
    "- Using `numpy` and `matplotlib`, plot the luminosity decay over 50 days.  \n",
    "- Calculate how long it will take for the luminosity to drop to $ 10^6 $ $L_\\odot$"
   ]
  },
  {
   "cell_type": "code",
   "execution_count": 93,
   "id": "6e4c43ef-adc0-48d8-a278-ecdf16e60e5b",
   "metadata": {},
   "outputs": [
    {
     "data": {
      "image/png": "[encoded data removed]",
      "text/plain": [
       "<Figure size 800x600 with 1 Axes>"
      ]
     },
     "metadata": {},
     "output_type": "display_data"
    },
    {
     "name": "stdout",
     "output_type": "stream",
     "text": [
      "Time for luminosity to drop to 10^6 L_sun: 9.97 days\n"
     ]
    }
   ],
   "source": [
    "\n",
    "L0 = 10**9 \n",
    "k = 0.693   \n",
    "time = np.linspace(0, 50, 500)  # Time from 0 to 50 days\n",
    "\n",
    "# Calculate luminosity as a function of time\n",
    "L_t = L0 * np.exp(-k * time)\n",
    "\n",
    "# Plot the luminosity decay curve\n",
    "plt.figure(figsize=(8, 6))\n",
    "plt.plot(time, L_t, label=r'$L(t) = L_0 e^{-kt}$', color='blue')\n",
    "plt.xlabel('Time (days)')\n",
    "plt.ylabel('Luminosity $L(t)$ ($L_\\odot$)')\n",
    "plt.title('Luminosity Decay of a Type Ia Supernova')\n",
    "plt.axhline(y=10**6, color='red', linestyle='--', label=r'$L_{\\text{target}} = 10^6 L_\\odot$')\n",
    "plt.grid()\n",
    "plt.show()\n",
    "L_target = 10**6\n",
    "t_target = np.log(L0 / L_target) / k\n",
    "print(f'Time for luminosity to drop to 10^6 L_sun: {t_target:.2f} days')"
   ]
  },
  {
   "cell_type": "markdown",
   "id": "521531b5-6f10-4692-8073-6ec97948e2e7",
   "metadata": {},
   "source": [
    "## Problem 15 - Calculating the Area Spanned by Three Stars\n",
    "\n",
    "\n",
    "Consider three stars in the sky, each with known Right Ascension (RA) and Declination (Dec) coordinates in the International Celestial Reference System (ICRS). You are tasked with calculating the area spanned by these three stars, forming a [spherical triangle](https://en.wikipedia.org/wiki/Spherical_trigonometry#Notation).\n",
    "\n",
    "\n",
    "\n",
    "Given the coordinates of the stars in RA and Dec, your goal is to calculate the angular separation between each pair of stars, then use the law of cosines to find the angles of the spherical triangle formed by the stars. Finally, apply the spherical excess formula to determine the area of the spherical triangle on the unit sphere.\n",
    "\n",
    "### Coordinates of the Stars:\n",
    "\n",
    "1. **Pleiades**: RA = 03h 48m 30.4s, Dec = +24°11'44.8\"\n",
    "2. **Aldebaran**: RA = 04h 37m 22.7s, Dec = +16°33'36.4\"\n",
    "3. **Capella**: RA = 05h 18m 34.2s, Dec = +46°01'26.1\"\n",
    "\n",
    "### Steps to Solve:\n",
    "\n",
    "1. **Convert the RA and Dec** of the stars into SkyCoord objects in the ICRS frame using Astropy.\n",
    "2. **Calculate the angular separation** between each pair of stars.\n",
    "3. **Convert the angular separations** from degrees to radians.\n",
    "4. **[Apply the law of cosines](https://en.wikipedia.org/wiki/Spherical_trigonometry#Supplemental_cosine_rules)** to calculate the angles at each vertex of the spherical triangle formed by the stars:\n",
    "   - Formula for the angles:\n",
    "     - For angle 1 (opposite side `sep12` =`pleiades.separation(aldebaran)`):\n",
    "       $$ \\cos(\t\\theta_1) = \\dfrac{\\cos(\t\\text{sep23}) - \\cos(\t\\text{sep12}) \\cdot \\cos(\t\\text{sep31})}{\\sin(\t\\text{sep12}) \\cdot \\sin(\t\\text{sep31})} $$\n",
    "     - For angle 2 (opposite side `sep23` = `aldebaran.separation(capella)`):\n",
    "       $$ \\cos(\t\\theta_2) = \\dfrac{\\cos(\t\\text{sep31}) - \\cos(\t\\text{sep12}) \\cdot \\cos(\t\\text{sep23})}{\\sin(\t\\text{sep12}) \\cdot \\sin(\t\\text{sep23})} $$\n",
    "     - For angle 3 (opposite side `sep31` = `capella.separation(pleiades)`):\n",
    "       $$ \\cos(\t\\theta_3) = \\dfrac{\\cos(\t\\text{sep12}) - \\cos(\t\\text{sep31}) \\cdot \\cos(\t\\text{sep23})}{\\sin(\t\\text{sep31}) \\cdot \\sin(\t\\text{sep23})} $$\n",
    "\n",
    "5. **Calculate the angles** using the arccosine function. Once you find $\\cos(\\theta)$ you can use this code line to find theta values `theta1 = np.arccos(np.clip(cos_angle1, -1.0, 1.0))` Here the np.clip function is used to prevent errors due to numerical inaccuracies when computing the inverse cosine. \n",
    "6. **Apply the spherical excess formula** to find the area of the spherical triangle:\n",
    "   $$ \t\\text{Area} = \t\\theta_1 + \t\\theta_2 + \t\\theta_3 - \\pi $$\n",
    "\n",
    "   The area is the spherical excess in **steradians**.\n",
    "\n"
   ]
  },
  {
   "cell_type": "code",
   "execution_count": 97,
   "id": "4b3f0791-8510-4181-80f5-45a4a901e324",
   "metadata": {},
   "outputs": [
    {
     "name": "stdout",
     "output_type": "stream",
     "text": [
      "Angular separation between Pleiades and Aldebaran: 13.753013486251556\n",
      "Angular separation between Aldebaran and Capella: 30.68953645987448\n",
      "Angular separation between Capella and Pleiades: 28.354650561999758\n",
      "Angle at Pleiades: 87.3849676737888\n",
      "Angle at Aldebaran: 68.3660103335827\n",
      "Angle at Capella: 27.730509104383312\n",
      "Spherical triangle area (in steradians): 0.060763 sr\n"
     ]
    }
   ],
   "source": [
    "pleiades_ra = '03h 48m 30.4s'\n",
    "pleiades_dec = '+24d 11m 44.8s'\n",
    "aldebaran_ra = '04h 37m 22.7s'\n",
    "aldebaran_dec = '+16d 33m 36.4s'\n",
    "capella_ra = '05h 18m 34.2s'\n",
    "capella_dec = '+46d 01m 26.1s'\n",
    "pleiades = SkyCoord(ra=pleiades_ra, dec=pleiades_dec, frame='icrs')\n",
    "aldebaran = SkyCoord(ra=aldebaran_ra, dec=aldebaran_dec, frame='icrs')\n",
    "capella = SkyCoord(ra=capella_ra, dec=capella_dec, frame='icrs')\n",
    "sep12 = pleiades.separation(aldebaran).radian \n",
    "sep23 = aldebaran.separation(capella).radian  \n",
    "sep31 = capella.separation(pleiades).radian   \n",
    "# Formula: cos(theta) = (cos(sep23) - cos(sep12) * cos(sep31)) / (sin(sep12) * sin(sep31))\n",
    "\n",
    "# For angle at Pleiades (theta1):\n",
    "cos_theta1 = (np.cos(sep23) - np.cos(sep12) * np.cos(sep31)) / (np.sin(sep12) * np.sin(sep31))\n",
    "theta1 = np.arccos(np.clip(cos_theta1, -1.0, 1.0))\n",
    "\n",
    "# For angle at Aldebaran (theta2):\n",
    "cos_theta2 = (np.cos(sep31) - np.cos(sep12) * np.cos(sep23)) / (np.sin(sep12) * np.sin(sep23))\n",
    "theta2 = np.arccos(np.clip(cos_theta2, -1.0, 1.0))\n",
    "\n",
    "# For angle at Capella (theta3):\n",
    "cos_theta3 = (np.cos(sep12) - np.cos(sep31) * np.cos(sep23)) / (np.sin(sep31) * np.sin(sep23))\n",
    "theta3 = np.arccos(np.clip(cos_theta3, -1.0, 1.0))\n",
    "\n",
    "area = theta1 + theta2 + theta3 - np.pi\n",
    "print(f\"Angular separation between Pleiades and Aldebaran: {sep12 * 180 / np.pi}\")\n",
    "print(f\"Angular separation between Aldebaran and Capella: {sep23 * 180 / np.pi}\")\n",
    "print(f\"Angular separation between Capella and Pleiades: {sep31 * 180 / np.pi:}\")\n",
    "print(f\"Angle at Pleiades: {theta1 * 180 / np.pi}\")\n",
    "print(f\"Angle at Aldebaran: {theta2 * 180 / np.pi}\")\n",
    "print(f\"Angle at Capella: {theta3 * 180 / np.pi}\")\n",
    "print(f\"Spherical triangle area (in steradians): {area:.6f} sr\")\n",
    "\n",
    "\n",
    "\n",
    "\n",
    "\n",
    "\n",
    "\n"
   ]
  }
 ],
 "metadata": {
  "kernelspec": {
   "display_name": "Python 3 (ipykernel)",
   "language": "python",
   "name": "python3"
  },
  "language_info": {
   "codemirror_mode": {
    "name": "ipython",
    "version": 3
   },
   "file_extension": ".py",
   "mimetype": "text/x-python",
   "name": "python",
   "nbconvert_exporter": "python",
   "pygments_lexer": "ipython3",
   "version": "3.10.6"
  }
 },
 "nbformat": 4,
 "nbformat_minor": 5
}
